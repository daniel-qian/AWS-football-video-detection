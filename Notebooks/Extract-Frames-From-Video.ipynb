{
 "cells": [
  {
   "cell_type": "code",
   "execution_count": 10,
   "id": "aaf00857",
   "metadata": {},
   "outputs": [
    {
     "name": "stdout",
     "output_type": "stream",
     "text": [
      "created extracted frames directory epic_clip_video/epic_extracted_frames\n",
      "Extracted 17 frames\n",
      "Complete\n"
     ]
    }
   ],
   "source": [
    "# First, import some packages\n",
    "\n",
    "import cv2\n",
    "import math\n",
    "import numpy as np\n",
    "import os\n",
    "\n",
    "# Capture every n seconds\n",
    "\n",
    "#################### Setting up the file ################\n",
    "videoFile = \"epic_clip_video/epic_clip4.mp4\"\n",
    "vidcap = cv2.VideoCapture(videoFile)\n",
    "success, image = vidcap.read()\n",
    "\n",
    "#################### Setting up parameters ################\n",
    "\n",
    "seconds = 0.2\n",
    "fps = int(math.ceil(vidcap.get(cv2.CAP_PROP_FPS))) # Gets the frames per second\n",
    "multiplier = int(math.ceil(fps * seconds))\n",
    "\n",
    "################### Initiate Process ################\n",
    "# print(multiplier)\n",
    "count = 0\n",
    "\n",
    "extracted_frame_dir = \"epic_clip_video/epic_extracted_frames\"\n",
    "if not os.path.exists(extracted_frame_dir):\n",
    "    os.mkdir(extracted_frame_dir)\n",
    "print(\"created extracted frames directory {}\".format(extracted_frame_dir))\n",
    "\n",
    "\n",
    "while success:\n",
    "    frameId = int(round(vidcap.get(1))) #current frame number, rounded b/c sometimes you get frame intervals which aren't integers...this adds a little imprecision but is likely good enough\n",
    "    success, image = vidcap.read()\n",
    "#     print(frameId)\n",
    "    if frameId % multiplier == 0:\n",
    "        count = count+1\n",
    "        cv2.imwrite(\"{}/epic_clip4_frame{}.jpg\".format(extracted_frame_dir,frameId),image)\n",
    "\n",
    "print(\"Extracted {} frames\".format(count))\n",
    "vidcap.release()\n",
    "print(\"Complete\")\n"
   ]
  }
 ],
 "metadata": {
  "kernelspec": {
   "display_name": "conda_amazonei_mxnet_p36",
   "language": "python",
   "name": "conda_amazonei_mxnet_p36"
  },
  "language_info": {
   "codemirror_mode": {
    "name": "ipython",
    "version": 3
   },
   "file_extension": ".py",
   "mimetype": "text/x-python",
   "name": "python",
   "nbconvert_exporter": "python",
   "pygments_lexer": "ipython3",
   "version": "3.6.13"
  }
 },
 "nbformat": 4,
 "nbformat_minor": 5
}
